{
 "cells": [
  {
   "cell_type": "code",
   "execution_count": 3,
   "id": "be4b7c0b",
   "metadata": {},
   "outputs": [
    {
     "name": "stdout",
     "output_type": "stream",
     "text": [
      "Transformers version: 4.52.4\n"
     ]
    }
   ],
   "source": [
    "import transformers\n",
    "from transformers import LlamaForCausalLM\n",
    "\n",
    "print(\"Transformers version:\", transformers.__version__)       "
   ]
  },
  {
   "cell_type": "code",
   "execution_count": 8,
   "id": "f166867f",
   "metadata": {},
   "outputs": [
    {
     "ename": "ImportError",
     "evalue": "cannot import name 'validate_bnb_backend_availability' from 'bitsandbytes' (/home/plnguyen2908/miniconda3/envs/avqa/lib/python3.10/site-packages/bitsandbytes/__init__.py)",
     "output_type": "error",
     "traceback": [
      "\u001b[0;31m---------------------------------------------------------------------------\u001b[0m",
      "\u001b[0;31mImportError\u001b[0m                               Traceback (most recent call last)",
      "Cell \u001b[0;32mIn[8], line 2\u001b[0m\n\u001b[1;32m      1\u001b[0m \u001b[38;5;28;01mimport\u001b[39;00m\u001b[38;5;250m \u001b[39m\u001b[38;5;21;01mbitsandbytes\u001b[39;00m\u001b[38;5;250m \u001b[39m\u001b[38;5;28;01mas\u001b[39;00m\u001b[38;5;250m \u001b[39m\u001b[38;5;21;01mbnb\u001b[39;00m\n\u001b[0;32m----> 2\u001b[0m \u001b[38;5;28;01mfrom\u001b[39;00m\u001b[38;5;250m \u001b[39m\u001b[38;5;21;01mbitsandbytes\u001b[39;00m\u001b[38;5;250m \u001b[39m\u001b[38;5;28;01mimport\u001b[39;00m validate_bnb_backend_availability\n\u001b[1;32m      3\u001b[0m \u001b[38;5;28mprint\u001b[39m(\u001b[38;5;124m\"\u001b[39m\u001b[38;5;124mOK, validate_bnb_backend_availability found:\u001b[39m\u001b[38;5;124m\"\u001b[39m, validate_bnb_backend_availability)\n",
      "\u001b[0;31mImportError\u001b[0m: cannot import name 'validate_bnb_backend_availability' from 'bitsandbytes' (/home/plnguyen2908/miniconda3/envs/avqa/lib/python3.10/site-packages/bitsandbytes/__init__.py)"
     ]
    }
   ],
   "source": [
    "import bitsandbytes as bnb\n",
    "from bitsandbytes import validate_bnb_backend_availability\n",
    "print(\"OK, validate_bnb_backend_availability found:\", validate_bnb_backend_availability)\n"
   ]
  }
 ],
 "metadata": {
  "kernelspec": {
   "display_name": "avqa",
   "language": "python",
   "name": "python3"
  },
  "language_info": {
   "codemirror_mode": {
    "name": "ipython",
    "version": 3
   },
   "file_extension": ".py",
   "mimetype": "text/x-python",
   "name": "python",
   "nbconvert_exporter": "python",
   "pygments_lexer": "ipython3",
   "version": "3.10.18"
  }
 },
 "nbformat": 4,
 "nbformat_minor": 5
}
